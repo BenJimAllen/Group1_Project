{
 "cells": [
  {
   "cell_type": "markdown",
   "metadata": {},
   "source": [
    "# Hooli-Strike Team Database Controller\n",
    "<figure width=100%>\n",
    "</figure>\n",
    "    \n",
    "## CSPB 3308; Team One\n",
    "<hr>"
   ]
  },
  {
   "cell_type": "markdown",
   "metadata": {
    "tags": []
   },
   "source": [
    "## OWNERS: name, email, github username\n",
    "\n",
    "Name: \n",
    "\n",
    "Email: \n",
    "\n",
    "Name: \n",
    "\n",
    "Email:  "
   ]
  },
  {
   "cell_type": "markdown",
   "metadata": {},
   "source": [
    "Write your table definitions here. **Format your definitions so they are readable.**"
   ]
  },
  {
   "cell_type": "markdown",
   "metadata": {},
   "source": [
    "## Set Up the Database Connection"
   ]
  },
  {
   "cell_type": "code",
   "execution_count": 38,
   "metadata": {},
   "outputs": [],
   "source": [
    "import sqlite3\n",
    "import dbAPI3\n",
    "import json\n",
    "# con = sqlite3.connect(\"test_db\")\n",
    "# cur = con.cursor()\n",
    "def delete_tables(db_filename):\n",
    "    conn = sqlite3.connect(db_filename) \n",
    "    with sqlite3.connect(db_filename) as conn:\n",
    "        c = conn.cursor() \n",
    "        #Create User_Account Table\n",
    "        c.execute(\"DROP TABLE IF EXISTS User_Account;\")\n",
    "        c.execute(\"DROP TABLE IF EXISTS User_Achievements;\")\n",
    "        c.execute(\"DROP TABLE IF EXISTS Achievement_Stats;\")\n",
    "        c.execute(\"DROP TABLE IF EXISTS Games_In_Progress;\")\n",
    "        c.execute(\"DROP TABLE IF EXISTS Game_Settings;\")\n",
    "        conn.commit()\n",
    "    conn.close()"
   ]
  },
  {
   "cell_type": "code",
   "execution_count": 32,
   "metadata": {},
   "outputs": [
    {
     "name": "stdout",
     "output_type": "stream",
     "text": [
      "Help on module dbAPI2:\n",
      "\n",
      "NAME\n",
      "    dbAPI2\n",
      "\n",
      "DESCRIPTION\n",
      "    #Authors: Paul Schneider TEST\n",
      "    #Date: April 2023\n",
      "    #Purpose: Create a database for the website\n",
      "\n",
      "FUNCTIONS\n",
      "    create(db_filename)\n",
      "    \n",
      "    delete_tables(db_filename)\n",
      "    \n",
      "    print_tables(db_filename)\n",
      "\n",
      "FILE\n",
      "    /home/jovyan/SWDev/Group1_Project/page_templates/SQL/dbAPI2.py\n",
      "\n",
      "\n"
     ]
    }
   ],
   "source": [
    "help(dbAPI3)"
   ]
  },
  {
   "cell_type": "code",
   "execution_count": 39,
   "metadata": {},
   "outputs": [],
   "source": [
    "db_name = \"test_db2\"\n",
    "#dbAPI3.delete_tables(db_name)\n",
    "dbAPI3.create(db_name)"
   ]
  },
  {
   "cell_type": "markdown",
   "metadata": {},
   "source": [
    "## Create the User_Account Table"
   ]
  },
  {
   "cell_type": "code",
   "execution_count": 40,
   "metadata": {},
   "outputs": [
    {
     "name": "stdout",
     "output_type": "stream",
     "text": [
      "\n",
      "Tables:\n",
      "\t[User_Account]\n",
      "\tColumns of User_Account\n",
      "\t\t (0, 'Username', 'VARCHAR(32)', 0, None, 1)\n",
      "\t\t (1, 'Password', 'VARCHAR(16)', 0, None, 0)\n",
      "\t\t (2, 'First_Name', 'VARCHAR(50)', 0, None, 0)\n",
      "\t\t (3, 'Last_Name', 'VARCHAR(50)', 0, None, 0)\n",
      "\t\t (4, 'Email', 'VARCHAR(320)', 0, None, 0)\n",
      "\t[Puzzle_Master]\n",
      "\tColumns of Puzzle_Master\n",
      "\t\t (0, 'Username', 'VARCHAR(32)', 0, None, 1)\n",
      "\t\t (1, 'Game1_Easy', 'BOOLEAN', 0, None, 0)\n",
      "\t\t (2, 'Game2_Easy', 'BOOLEAN', 0, None, 0)\n",
      "\t\t (3, 'Game3_Easy', 'BOOLEAN', 0, None, 0)\n",
      "\t\t (4, 'Game4_Easy', 'BOOLEAN', 0, None, 0)\n",
      "\t\t (5, 'Game1_Med', 'BOOLEAN', 0, None, 0)\n",
      "\t\t (6, 'Game2_Med', 'BOOLEAN', 0, None, 0)\n",
      "\t\t (7, 'Game3_Med', 'BOOLEAN', 0, None, 0)\n",
      "\t\t (8, 'Game4_Med', 'BOOLEAN', 0, None, 0)\n",
      "\t\t (9, 'Game1_Hard', 'BOOLEAN', 0, None, 0)\n",
      "\t\t (10, 'Game2_Hard', 'BOOLEAN', 0, None, 0)\n",
      "\t\t (11, 'Game3_Hard', 'BOOLEAN', 0, None, 0)\n",
      "\t\t (12, 'Game4_Hard', 'BOOLEAN', 0, None, 0)\n",
      "\t[Achievement_Stats]\n",
      "\tColumns of Achievement_Stats\n",
      "\t\t (0, 'Username', 'VARCHAR(32)', 0, None, 1)\n",
      "\t\t (1, 'EasyGamesCompleted', 'INT', 0, None, 0)\n",
      "\t\t (2, 'MedGamesCompleted', 'INT', 0, None, 0)\n",
      "\t\t (3, 'HardGamesCompleted', 'INT', 0, None, 0)\n",
      "\t\t (4, 'Best_Time_Easy', 'FLOAT', 0, None, 0)\n",
      "\t\t (5, 'Best_Time_Med', 'FLOAT', 0, None, 0)\n",
      "\t\t (6, 'Best_Time_Hard', 'FLOAT', 0, None, 0)\n",
      "\t[Games_In_Progress]\n",
      "\tColumns of Games_In_Progress\n",
      "\t\t (0, 'Username', 'VARCHAR(32)', 0, None, 0)\n",
      "\t\t (1, 'Game_ID', 'INT', 0, None, 1)\n",
      "\t\t (2, 'Current_Time', 'INT', 0, None, 0)\n",
      "\t\t (3, 'Game', 'VARCHAR(100)', 0, None, 0)\n",
      "\t\t (4, 'Difficulty', 'VARCHAR(6)', 0, None, 0)\n",
      "\t\t (5, 'Mistakes_Checked', 'INT', 0, None, 0)\n",
      "\t\t (6, 'Notes_Checked', 'INT', 0, None, 0)\n",
      "\t[Game_Settings]\n",
      "\tColumns of Game_Settings\n",
      "\t\t (0, 'Username', 'INT', 0, None, 1)\n",
      "\t\t (1, 'Show_Clock', 'BOOLEAN', 0, None, 0)\n",
      "\t\t (2, 'Show_Mistakes_Counter', 'BOOLEAN', 0, None, 0)\n"
     ]
    }
   ],
   "source": [
    "#dbAPI3.delete_tables(db_name)\n",
    "dbAPI3.print_tables(db_name)"
   ]
  },
  {
   "cell_type": "code",
   "execution_count": 4,
   "metadata": {},
   "outputs": [
    {
     "name": "stdout",
     "output_type": "stream",
     "text": [
      "\n",
      "Tables:\n",
      "\t[Puzzle_Master]\n",
      "\tColumns of Puzzle_Master\n",
      "\t\t (0, 'Username', 'VARCHAR(32)', 0, None, 1)\n",
      "\t\t (1, 'Game1_Easy', 'BOOLEAN', 0, None, 0)\n",
      "\t\t (2, 'Game2_Easy', 'BOOLEAN', 0, None, 0)\n",
      "\t\t (3, 'Game3_Easy', 'BOOLEAN', 0, None, 0)\n",
      "\t\t (4, 'Game4_Easy', 'BOOLEAN', 0, None, 0)\n",
      "\t\t (5, 'Game1_Med', 'BOOLEAN', 0, None, 0)\n",
      "\t\t (6, 'Game2_Med', 'BOOLEAN', 0, None, 0)\n",
      "\t\t (7, 'Game3_Med', 'BOOLEAN', 0, None, 0)\n",
      "\t\t (8, 'Game4_Med', 'BOOLEAN', 0, None, 0)\n",
      "\t\t (9, 'Game1_Hard', 'BOOLEAN', 0, None, 0)\n",
      "\t\t (10, 'Game2_Hard', 'BOOLEAN', 0, None, 0)\n",
      "\t\t (11, 'Game3_Hard', 'BOOLEAN', 0, None, 0)\n",
      "\t\t (12, 'Game4_Hard', 'BOOLEAN', 0, None, 0)\n",
      "\t[User_Account]\n",
      "\tColumns of User_Account\n",
      "\t\t (0, 'Username', 'VARCHAR(32)', 0, None, 1)\n",
      "\t\t (1, 'Password', 'VARCHAR(16)', 0, None, 0)\n",
      "\t\t (2, 'First_Name', 'VARCHAR(50)', 0, None, 0)\n",
      "\t\t (3, 'Last_Name', 'VARCHAR(50)', 0, None, 0)\n",
      "\t\t (4, 'Email', 'VARCHAR(320)', 0, None, 0)\n",
      "\t[Achievement_Stats]\n",
      "\tColumns of Achievement_Stats\n",
      "\t\t (0, 'Username', 'VARCHAR(32)', 0, None, 1)\n",
      "\t\t (1, 'EasyGamesCompleted', 'INT', 0, None, 0)\n",
      "\t\t (2, 'MedGamesCompleted', 'INT', 0, None, 0)\n",
      "\t\t (3, 'HardGamesCompleted', 'INT', 0, None, 0)\n",
      "\t\t (4, 'Best_Time_Easy', 'FLOAT', 0, None, 0)\n",
      "\t\t (5, 'Best_Time_Med', 'FLOAT', 0, None, 0)\n",
      "\t\t (6, 'Best_Time_Hard', 'FLOAT', 0, None, 0)\n",
      "\t[Games_In_Progress]\n",
      "\tColumns of Games_In_Progress\n",
      "\t\t (0, 'Username', 'VARCHAR(32)', 0, None, 0)\n",
      "\t\t (1, 'Game_ID', 'INT', 0, None, 1)\n",
      "\t\t (2, 'Current_Time', 'INT', 0, None, 0)\n",
      "\t\t (3, 'Game', 'VARCHAR(100)', 0, None, 0)\n",
      "\t\t (4, 'Difficulty', 'VARCHAR(6)', 0, None, 0)\n",
      "\t\t (5, 'Mistakes_Checked', 'INT', 0, None, 0)\n",
      "\t\t (6, 'Notes_Checked', 'INT', 0, None, 0)\n",
      "\t[Game_Settings]\n",
      "\tColumns of Game_Settings\n",
      "\t\t (0, 'Username', 'INT', 0, None, 1)\n",
      "\t\t (1, 'Show_Clock', 'BOOLEAN', 0, None, 0)\n",
      "\t\t (2, 'Show_Mistakes_Counter', 'BOOLEAN', 0, None, 0)\n"
     ]
    }
   ],
   "source": [
    "#dbAPI2.delete_tables(\"settings_test_db\")\n",
    "dbAPI2.print_tables(\"settings_test_db\")"
   ]
  },
  {
   "cell_type": "code",
   "execution_count": null,
   "metadata": {},
   "outputs": [],
   "source": []
  },
  {
   "cell_type": "code",
   "execution_count": 30,
   "metadata": {},
   "outputs": [],
   "source": [
    "con = sqlite3.connect(db_name)\n",
    "with con:\n",
    "        for result in con.execute(\"SELECT * FROM User_Account;\"):\n",
    "            print(result)\n",
    "        for result in con.execute(\"SELECT * FROM User_Achievements;\"):\n",
    "            print(result)            \n",
    "        for result in con.execute(\"SELECT * FROM Achievement_Stats;\"):\n",
    "            print(result)        \n",
    "        for result in con.execute(\"SELECT * FROM Games_In_Progress;\"):\n",
    "            print(result)\n",
    "        for result in con.execute(\"SELECT * FROM Game_Settings;\"):\n",
    "            print(result)\n",
    "con.close()"
   ]
  },
  {
   "cell_type": "code",
   "execution_count": 10,
   "metadata": {},
   "outputs": [
    {
     "name": "stdout",
     "output_type": "stream",
     "text": [
      "('[]',)\n"
     ]
    }
   ],
   "source": [
    "con = sqlite3.connect(db_name)\n",
    "with con:\n",
    "        #con.execute(\"INSERT INTO User_Account VALUES ('TEST_ACCOUNT','password','user','name','email@email.com');\")\n",
    "        #con.execute(\"INSERT INTO Game_Settings VALUES ('TEST_ACCOUNT',0,1);\")\n",
    "        \n",
    "        for result in con.execute('''SELECT json_group_array( json_object(\n",
    "                                                    'Username', Username,\n",
    "                                                    'Password', Password,\n",
    "                                                    'First_Name', First_Name,\n",
    "                                                    'Last_Name', Last_Name,\n",
    "                                                    'Email', Email))\n",
    "                                      FROM User_Account\n",
    "                                      '''):\n",
    "            print(result)\n",
    "        for result in con.execute(\"SELECT * FROM Game_Settings;\"):\n",
    "            print(result[1],result[2])\n",
    "con.close()"
   ]
  },
  {
   "cell_type": "code",
   "execution_count": 11,
   "metadata": {},
   "outputs": [
    {
     "name": "stdout",
     "output_type": "stream",
     "text": [
      "('USER1', 'password', 'first', 'last', 'email@email.com')\n",
      "('USER2', 'password', 'first', 'last', 'email@email.com')\n",
      "('USER3', 'password', 'first', 'last', 'email@email.com')\n",
      "('USER4', 'password', 'first', 'last', 'email@email.com')\n"
     ]
    }
   ],
   "source": [
    "con = sqlite3.connect(db_name)\n",
    "with con:\n",
    "    for user in [{'Username':'USER1'},{'Username':'USER2'},{'Username':'USER3'},{'Username':'USER4'}]:\n",
    "                con.execute(\"INSERT INTO User_Account VALUES (:Username, 'password','first','last','email@email.com');\",user)\n",
    "    for result in con.execute(\"SELECT * FROM User_Account;\"):\n",
    "            print(result)\n",
    "con.close()"
   ]
  },
  {
   "cell_type": "code",
   "execution_count": 15,
   "metadata": {},
   "outputs": [
    {
     "name": "stdout",
     "output_type": "stream",
     "text": [
      "('USER2', 1235, '1234', '000704005020010070000080002090006250600070008053200010400090000030060090200407000', 'Expert')\n"
     ]
    }
   ],
   "source": [
    "con = sqlite3.connect(db_name)\n",
    "with con:\n",
    "    # for user in [{'Username':'USER2','Game_ID':'1235','Current_Time':'1234','Game':\"000704005020010070000080002090006250600070008053200010400090000030060090200407000\",'Difficulty':'Expert', 'Mistakes_Checked': '0', 'Notes_Checked': '0'}]:\n",
    "    #     con.execute(\"INSERT INTO Games_In_Progress VALUES (:Username, :Game_ID, :Current_Time, :Game, :Difficulty, :Mistakes_Checked, :Notes_Checked);\",user)   \n",
    "    for user in [{'Username':'USER2','Game_ID':'1235','Current_Time':'1234','Game':\"000704005020010070000080002090006250600070008053200010400090000030060090200407000\",'Difficulty':'Expert'}]:\n",
    "                con.execute(\"INSERT INTO Games_In_Progress VALUES (:Username, :Game_ID, :Current_Time, :Game, :Difficulty);\",user)\n",
    "    for result in con.execute(\"SELECT * FROM Games_In_Progress;\"):\n",
    "            print(result)\n",
    "con.close()"
   ]
  },
  {
   "cell_type": "code",
   "execution_count": 9,
   "metadata": {},
   "outputs": [
    {
     "name": "stdout",
     "output_type": "stream",
     "text": [
      "('USER2', 1235, 1234, '000704005020010070000080002090006250600070008053200010400090000030060090200407000', 'Expert', 0, 0)\n"
     ]
    }
   ],
   "source": [
    "con = sqlite3.connect(db_name)\n",
    "with con:\n",
    "    for result in con.execute(\"SELECT * FROM Games_In_Progress;\"):\n",
    "            print(result)\n",
    "con.close()"
   ]
  },
  {
   "cell_type": "code",
   "execution_count": 10,
   "metadata": {},
   "outputs": [
    {
     "name": "stdout",
     "output_type": "stream",
     "text": [
      "('USER2', 1235, 111, '111704005020010070000080002090006250600070008053200010400090000030060090200407111', 'Expert', 0, 0)\n"
     ]
    }
   ],
   "source": [
    "con = sqlite3.connect(db_name)\n",
    "with con:\n",
    "    con.execute('''UPDATE Games_In_Progress SET \"Current_Time\" = 111, \"Game\" = \"111704005020010070000080002090006250600070008053200010400090000030060090200407111\"  WHERE \"Game_ID\" = \"1235\"''')\n",
    "    for result in con.execute(\"SELECT * FROM Games_In_Progress;\"):\n",
    "            print(result)\n",
    "con.close()"
   ]
  },
  {
   "cell_type": "code",
   "execution_count": 11,
   "metadata": {},
   "outputs": [
    {
     "name": "stderr",
     "output_type": "stream",
     "text": [
      "<<<<<<< local\n",
      "=======\n"
     ]
    },
    {
     "ename": "OperationalError",
     "evalue": "no such table: Puzzle_Master",
     "output_type": "error",
     "traceback": [
      "\u001b[0;31m---------------------------------------------------------------------------\u001b[0m",
      "\u001b[0;31mOperationalError\u001b[0m                          Traceback (most recent call last)",
      "Cell \u001b[0;32mIn[16], line 4\u001b[0m\n\u001b[1;32m      2\u001b[0m \u001b[38;5;28;01mwith\u001b[39;00m con:\n\u001b[1;32m      3\u001b[0m     \u001b[38;5;28;01mfor\u001b[39;00m user \u001b[38;5;129;01min\u001b[39;00m [{\u001b[38;5;124m'\u001b[39m\u001b[38;5;124mUsername\u001b[39m\u001b[38;5;124m'\u001b[39m:\u001b[38;5;124m'\u001b[39m\u001b[38;5;124mRandyBoBandy-71\u001b[39m\u001b[38;5;124m'\u001b[39m,\u001b[38;5;124m'\u001b[39m\u001b[38;5;124mGame1_Easy\u001b[39m\u001b[38;5;124m'\u001b[39m: \u001b[38;5;28;01mFalse\u001b[39;00m,\u001b[38;5;124m'\u001b[39m\u001b[38;5;124mGame2_Easy\u001b[39m\u001b[38;5;124m'\u001b[39m: \u001b[38;5;28;01mFalse\u001b[39;00m,\u001b[38;5;124m'\u001b[39m\u001b[38;5;124mGame3_Easy\u001b[39m\u001b[38;5;124m'\u001b[39m: \u001b[38;5;28;01mFalse\u001b[39;00m,\u001b[38;5;124m'\u001b[39m\u001b[38;5;124mGame4_Easy\u001b[39m\u001b[38;5;124m'\u001b[39m: \u001b[38;5;28;01mFalse\u001b[39;00m, \u001b[38;5;124m'\u001b[39m\u001b[38;5;124mGame1_Med\u001b[39m\u001b[38;5;124m'\u001b[39m: \u001b[38;5;28;01mFalse\u001b[39;00m, \u001b[38;5;124m'\u001b[39m\u001b[38;5;124mGame2_Med\u001b[39m\u001b[38;5;124m'\u001b[39m: \u001b[38;5;28;01mFalse\u001b[39;00m, \u001b[38;5;124m'\u001b[39m\u001b[38;5;124mGame3_Med\u001b[39m\u001b[38;5;124m'\u001b[39m: \u001b[38;5;28;01mFalse\u001b[39;00m, \u001b[38;5;124m'\u001b[39m\u001b[38;5;124mGame4_Med\u001b[39m\u001b[38;5;124m'\u001b[39m: \u001b[38;5;28;01mFalse\u001b[39;00m, \u001b[38;5;124m'\u001b[39m\u001b[38;5;124mGame1_Hard\u001b[39m\u001b[38;5;124m'\u001b[39m: \u001b[38;5;28;01mFalse\u001b[39;00m, \u001b[38;5;124m'\u001b[39m\u001b[38;5;124mGame2_Hard\u001b[39m\u001b[38;5;124m'\u001b[39m: \u001b[38;5;28;01mFalse\u001b[39;00m, \u001b[38;5;124m'\u001b[39m\u001b[38;5;124mGame3_Hard\u001b[39m\u001b[38;5;124m'\u001b[39m: \u001b[38;5;28;01mFalse\u001b[39;00m, \u001b[38;5;124m'\u001b[39m\u001b[38;5;124mGame4_Hard\u001b[39m\u001b[38;5;124m'\u001b[39m: \u001b[38;5;28;01mFalse\u001b[39;00m}]:\n\u001b[0;32m----> 4\u001b[0m                 \u001b[43mcon\u001b[49m\u001b[38;5;241;43m.\u001b[39;49m\u001b[43mexecute\u001b[49m\u001b[43m(\u001b[49m\u001b[38;5;124;43m\"\u001b[39;49m\u001b[38;5;124;43mINSERT INTO Puzzle_Master VALUES (:Username, :Game1_Easy, :Game2_Easy, :Game3_Easy, :Game4_Easy, :Game1_Med, :Game2_Med, :Game3_Med, :Game4_Med, :Game1_Hard, :Game2_Hard, :Game3_Hard, :Game4_Hard);\u001b[39;49m\u001b[38;5;124;43m\"\u001b[39;49m\u001b[43m,\u001b[49m\u001b[43muser\u001b[49m\u001b[43m)\u001b[49m\n\u001b[1;32m      5\u001b[0m     \u001b[38;5;28;01mfor\u001b[39;00m result \u001b[38;5;129;01min\u001b[39;00m con\u001b[38;5;241m.\u001b[39mexecute(\u001b[38;5;124m\"\u001b[39m\u001b[38;5;124mSELECT * FROM Puzzle_Master;\u001b[39m\u001b[38;5;124m\"\u001b[39m):\n\u001b[1;32m      6\u001b[0m         \u001b[38;5;28mprint\u001b[39m(result)       \n",
      "\u001b[0;31mOperationalError\u001b[0m: no such table: Puzzle_Master"
     ]
    },
    {
     "name": "stderr",
     "output_type": "stream",
     "text": [
      ">>>>>>> remote\n",
      "<<<<<<< local <modified: >\n"
     ]
    },
    {
     "ename": "IntegrityError",
     "evalue": "UNIQUE constraint failed: Puzzle_Master.Username",
     "output_type": "error",
     "traceback": [
      "\u001b[0;31m---------------------------------------------------------------------------\u001b[0m",
      "\u001b[0;31mIntegrityError\u001b[0m                            Traceback (most recent call last)",
      "Cell \u001b[0;32mIn[11], line 4\u001b[0m\n\u001b[1;32m      2\u001b[0m \u001b[38;5;28;01mwith\u001b[39;00m con:\n\u001b[1;32m      3\u001b[0m     \u001b[38;5;28;01mfor\u001b[39;00m user \u001b[38;5;129;01min\u001b[39;00m [{\u001b[38;5;124m'\u001b[39m\u001b[38;5;124mUsername\u001b[39m\u001b[38;5;124m'\u001b[39m:\u001b[38;5;124m'\u001b[39m\u001b[38;5;124mRandyBoBandy-71\u001b[39m\u001b[38;5;124m'\u001b[39m,\u001b[38;5;124m'\u001b[39m\u001b[38;5;124mGame1_Easy\u001b[39m\u001b[38;5;124m'\u001b[39m: \u001b[38;5;28;01mFalse\u001b[39;00m,\u001b[38;5;124m'\u001b[39m\u001b[38;5;124mGame2_Easy\u001b[39m\u001b[38;5;124m'\u001b[39m: \u001b[38;5;28;01mFalse\u001b[39;00m,\u001b[38;5;124m'\u001b[39m\u001b[38;5;124mGame3_Easy\u001b[39m\u001b[38;5;124m'\u001b[39m: \u001b[38;5;28;01mFalse\u001b[39;00m,\u001b[38;5;124m'\u001b[39m\u001b[38;5;124mGame4_Easy\u001b[39m\u001b[38;5;124m'\u001b[39m: \u001b[38;5;28;01mFalse\u001b[39;00m, \u001b[38;5;124m'\u001b[39m\u001b[38;5;124mGame1_Med\u001b[39m\u001b[38;5;124m'\u001b[39m: \u001b[38;5;28;01mFalse\u001b[39;00m, \u001b[38;5;124m'\u001b[39m\u001b[38;5;124mGame2_Med\u001b[39m\u001b[38;5;124m'\u001b[39m: \u001b[38;5;28;01mFalse\u001b[39;00m, \u001b[38;5;124m'\u001b[39m\u001b[38;5;124mGame3_Med\u001b[39m\u001b[38;5;124m'\u001b[39m: \u001b[38;5;28;01mFalse\u001b[39;00m, \u001b[38;5;124m'\u001b[39m\u001b[38;5;124mGame4_Med\u001b[39m\u001b[38;5;124m'\u001b[39m: \u001b[38;5;28;01mFalse\u001b[39;00m, \u001b[38;5;124m'\u001b[39m\u001b[38;5;124mGame1_Hard\u001b[39m\u001b[38;5;124m'\u001b[39m: \u001b[38;5;28;01mFalse\u001b[39;00m, \u001b[38;5;124m'\u001b[39m\u001b[38;5;124mGame2_Hard\u001b[39m\u001b[38;5;124m'\u001b[39m: \u001b[38;5;28;01mFalse\u001b[39;00m, \u001b[38;5;124m'\u001b[39m\u001b[38;5;124mGame3_Hard\u001b[39m\u001b[38;5;124m'\u001b[39m: \u001b[38;5;28;01mFalse\u001b[39;00m, \u001b[38;5;124m'\u001b[39m\u001b[38;5;124mGame4_Hard\u001b[39m\u001b[38;5;124m'\u001b[39m: \u001b[38;5;28;01mFalse\u001b[39;00m}]:\n\u001b[0;32m----> 4\u001b[0m                 \u001b[43mcon\u001b[49m\u001b[38;5;241;43m.\u001b[39;49m\u001b[43mexecute\u001b[49m\u001b[43m(\u001b[49m\u001b[38;5;124;43m\"\u001b[39;49m\u001b[38;5;124;43mINSERT INTO Puzzle_Master VALUES (:Username, :Game1_Easy, :Game2_Easy, :Game3_Easy, :Game4_Easy, :Game1_Med, :Game2_Med, :Game3_Med, :Game4_Med, :Game1_Hard, :Game2_Hard, :Game3_Hard, :Game4_Hard);\u001b[39;49m\u001b[38;5;124;43m\"\u001b[39;49m\u001b[43m,\u001b[49m\u001b[43muser\u001b[49m\u001b[43m)\u001b[49m\n\u001b[1;32m      5\u001b[0m     \u001b[38;5;28;01mfor\u001b[39;00m result \u001b[38;5;129;01min\u001b[39;00m con\u001b[38;5;241m.\u001b[39mexecute(\u001b[38;5;124m\"\u001b[39m\u001b[38;5;124mSELECT * FROM Puzzle_Master;\u001b[39m\u001b[38;5;124m\"\u001b[39m):\n\u001b[1;32m      6\u001b[0m         \u001b[38;5;28mprint\u001b[39m(result)       \n",
      "\u001b[0;31mIntegrityError\u001b[0m: UNIQUE constraint failed: Puzzle_Master.Username"
     ]
    },
    {
     "name": "stderr",
     "output_type": "stream",
     "text": [
      "=======\n",
      ">>>>>>> remote <removed>\n"
     ]
    }
   ],
   "source": [
    "con = sqlite3.connect(db_name)\n",
    "with con:\n",
    "    for user in [{'Username':'RandyBoBandy-71','Game1_Easy': False,'Game2_Easy': False,'Game3_Easy': False,'Game4_Easy': False, 'Game1_Med': False, 'Game2_Med': False, 'Game3_Med': False, 'Game4_Med': False, 'Game1_Hard': False, 'Game2_Hard': False, 'Game3_Hard': False, 'Game4_Hard': False}]:\n",
    "                con.execute(\"INSERT INTO Puzzle_Master VALUES (:Username, :Game1_Easy, :Game2_Easy, :Game3_Easy, :Game4_Easy, :Game1_Med, :Game2_Med, :Game3_Med, :Game4_Med, :Game1_Hard, :Game2_Hard, :Game3_Hard, :Game4_Hard);\",user)\n",
    "    for result in con.execute(\"SELECT * FROM Puzzle_Master;\"):\n",
    "        print(result)       \n",
    "con.close()"
   ]
  },
  {
   "cell_type": "code",
   "execution_count": null,
   "metadata": {},
   "outputs": [],
   "source": []
  },
  {
   "cell_type": "code",
   "execution_count": null,
   "metadata": {},
   "outputs": [],
   "source": []
  },
  {
   "cell_type": "code",
   "execution_count": null,
   "metadata": {},
   "outputs": [],
   "source": []
  }
 ],
 "metadata": {
  "kernelspec": {
   "display_name": "Python 3 (ipykernel)",
   "language": "python",
   "name": "python3"
  },
  "language_info": {
   "codemirror_mode": {
    "name": "ipython",
    "version": 3
   },
   "file_extension": ".py",
   "mimetype": "text/x-python",
   "name": "python",
   "nbconvert_exporter": "python",
   "pygments_lexer": "ipython3",
   "version": "3.10.8"
  }
 },
 "nbformat": 4,
 "nbformat_minor": 4
}
