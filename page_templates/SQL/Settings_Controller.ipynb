{
 "cells": [
  {
   "cell_type": "markdown",
   "metadata": {},
   "source": [
    "# Hooli-Strike Team Database Controller\n",
    "<figure width=100%>\n",
    "</figure>\n",
    "    \n",
    "## CSPB 3308; Team One\n",
    "<hr>"
   ]
  },
  {
   "cell_type": "markdown",
   "metadata": {
    "tags": []
   },
   "source": [
    "## OWNERS: name, email, github username\n",
    "\n",
    "Name: \n",
    "\n",
    "Email: \n",
    "\n",
    "Name: \n",
    "\n",
    "Email:  "
   ]
  },
  {
   "cell_type": "markdown",
   "metadata": {},
   "source": [
    "Write your table definitions here. **Format your definitions so they are readable.**"
   ]
  },
  {
   "cell_type": "markdown",
   "metadata": {},
   "source": [
    "## Set Up the Database Connection"
   ]
  },
  {
   "cell_type": "code",
   "execution_count": 48,
   "metadata": {},
   "outputs": [],
   "source": [
    "import sqlite3\n",
    "import dbAPI\n",
    "# con = sqlite3.connect(\"test_db\")\n",
    "# cur = con.cursor()\n"
   ]
  },
  {
   "cell_type": "code",
   "execution_count": 61,
   "metadata": {},
   "outputs": [
    {
     "name": "stdout",
     "output_type": "stream",
     "text": [
      "Help on module dbAPI:\n",
      "\n",
      "NAME\n",
      "    dbAPI\n",
      "\n",
      "DESCRIPTION\n",
      "    #Authors: Paul Schneider TEST\n",
      "    #Date: April 2023\n",
      "    #Purpose: Create a database for the website\n",
      "\n",
      "FUNCTIONS\n",
      "    create(db_filename)\n",
      "    \n",
      "    print_tables(db_filename)\n",
      "\n",
      "FILE\n",
      "    /home/jovyan/SWDev/Group1_Project/page_templates/SQL/dbAPI.py\n",
      "\n",
      "\n"
     ]
    }
   ],
   "source": [
    "help(dbAPI)\n"
   ]
  },
  {
   "cell_type": "code",
   "execution_count": 62,
   "metadata": {},
   "outputs": [],
   "source": [
    "dbAPI.create(\"settings_test_db\")\n",
    "delete_tables(\"settings_test_db\")"
   ]
  },
  {
   "cell_type": "markdown",
   "metadata": {},
   "source": [
    "## Create the User_Account Table"
   ]
  },
  {
   "cell_type": "code",
   "execution_count": 63,
   "metadata": {},
   "outputs": [
    {
     "name": "stdout",
     "output_type": "stream",
     "text": [
      "\n",
      "Tables:\n"
     ]
    }
   ],
   "source": [
    "dbAPI.print_tables(\"settings_test_db\")"
   ]
  },
  {
   "cell_type": "code",
   "execution_count": null,
   "metadata": {},
   "outputs": [],
   "source": []
  },
  {
   "cell_type": "code",
   "execution_count": 19,
   "metadata": {},
   "outputs": [],
   "source": [
    "con = sqlite3.connect(\"test_db\")\n",
    "with con:\n",
    "        for result in con.execute(\"SELECT * FROM User_Account;\"):\n",
    "            print(result)\n",
    "        \n",
    "        for result in con.execute(\"SELECT * FROM Game_Settings;\"):\n",
    "            print(result)\n",
    "con.close()"
   ]
  },
  {
   "cell_type": "code",
   "execution_count": null,
   "metadata": {},
   "outputs": [],
   "source": [
    "con = sqlite3.connect(\"test_db\")\n",
    "with con:\n",
    "        con.execute('''INSERT INTO User_Account VALUES ('TEST_ACCOUNT','password','user','name','email@email.com';\n",
    "                       INSERT INTO Game_Settings VALUES ('TEST_ACCOUNT',1,0,'name','email@email.com';\n",
    "                    ''')\n",
    "            print(result)\n",
    "        \n",
    "        for result in con.execute(\"SELECT * FROM Game_Settings;\"):\n",
    "            print(result)\n",
    "con.close()"
   ]
  }
 ],
 "metadata": {
  "kernelspec": {
   "display_name": "Python 3 (ipykernel)",
   "language": "python",
   "name": "python3"
  },
  "language_info": {
   "codemirror_mode": {
    "name": "ipython",
    "version": 3
   },
   "file_extension": ".py",
   "mimetype": "text/x-python",
   "name": "python",
   "nbconvert_exporter": "python",
   "pygments_lexer": "ipython3",
   "version": "3.10.8"
  }
 },
 "nbformat": 4,
 "nbformat_minor": 4
}
