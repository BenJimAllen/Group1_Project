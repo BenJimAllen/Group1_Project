{
 "cells": [
  {
   "cell_type": "markdown",
   "metadata": {},
   "source": [
    "# Hooli-Strike Team Database Controller\n",
    "<figure width=100%>\n",
    "</figure>\n",
    "    \n",
    "## CSPB 3308; Team One\n",
    "<hr>"
   ]
  },
  {
   "cell_type": "markdown",
   "metadata": {
    "tags": []
   },
   "source": [
    "## OWNERS: name, email, github username\n",
    "\n",
    "Name: \n",
    "\n",
    "Email: \n",
    "\n",
    "Name: \n",
    "\n",
    "Email:  "
   ]
  },
  {
   "cell_type": "markdown",
   "metadata": {},
   "source": [
    "Write your table definitions here. **Format your definitions so they are readable.**"
   ]
  },
  {
   "cell_type": "markdown",
   "metadata": {},
   "source": [
    "## Set Up the Database Connection"
   ]
  },
  {
   "cell_type": "code",
   "execution_count": 1,
   "metadata": {},
   "outputs": [],
   "source": [
    "import sqlite3\n",
    "import dbAPI2\n",
    "# con = sqlite3.connect(\"test_db\")\n",
    "# cur = con.cursor()\n",
    "def delete_tables(db_filename):\n",
    "    conn = sqlite3.connect(db_filename) \n",
    "    with sqlite3.connect(db_filename) as conn:\n",
    "        c = conn.cursor() \n",
    "        #Create User_Account Table\n",
    "        c.execute(\"DROP TABLE IF EXISTS User_Account;\")\n",
    "        c.execute(\"DROP TABLE IF EXISTS User_Achievements;\")\n",
    "        c.execute(\"DROP TABLE IF EXISTS Achievement_Stats;\")\n",
    "        c.execute(\"DROP TABLE IF EXISTS Games_In_Progress;\")\n",
    "        c.execute(\"DROP TABLE IF EXISTS Game_Settings;\")\n",
    "        conn.commit()\n",
    "    conn.close()"
   ]
  },
  {
   "cell_type": "code",
   "execution_count": 2,
   "metadata": {},
   "outputs": [
    {
     "name": "stdout",
     "output_type": "stream",
     "text": [
      "Help on module dbAPI2:\n",
      "\n",
      "NAME\n",
      "    dbAPI2\n",
      "\n",
      "DESCRIPTION\n",
      "    #Authors: Paul Schneider TEST\n",
      "    #Date: April 2023\n",
      "    #Purpose: Create a database for the website\n",
      "\n",
      "FUNCTIONS\n",
      "    create(db_filename)\n",
      "    \n",
      "    delete_tables(db_filename)\n",
      "    \n",
      "    print_tables(db_filename)\n",
      "\n",
      "FILE\n",
      "    /home/jovyan/Group1_Project/page_templates/SQL/dbAPI2.py\n",
      "\n",
      "\n"
     ]
    }
   ],
   "source": [
    "help(dbAPI2)"
   ]
  },
  {
   "cell_type": "code",
   "execution_count": 9,
   "metadata": {},
   "outputs": [],
   "source": [
    "\n",
    "dbAPI2.delete_tables(\"settings_test_db\")\n",
    "dbAPI2.create(\"settings_test_db\")"
   ]
  },
  {
   "cell_type": "markdown",
   "metadata": {},
   "source": [
    "## Create the User_Account Table"
   ]
  },
  {
   "cell_type": "code",
   "execution_count": 4,
   "metadata": {},
   "outputs": [
    {
     "name": "stdout",
     "output_type": "stream",
     "text": [
      "\n",
      "Tables:\n",
      "\t[User_Account]\n",
      "\tColumns of User_Account\n",
      "\t\t (0, 'Username', 'VARCHAR(32)', 0, None, 1)\n",
      "\t\t (1, 'Password', 'VARCHAR(16)', 0, None, 0)\n",
      "\t\t (2, 'First_Name', 'VARCHAR(50)', 0, None, 0)\n",
      "\t\t (3, 'Last_Name', 'VARCHAR(50)', 0, None, 0)\n",
      "\t\t (4, 'Email', 'VARCHAR(320)', 0, None, 0)\n",
      "\t[User_Achievements]\n",
      "\tColumns of User_Achievements\n",
      "\t\t (0, 'Username', 'VARCHAR(32)', 0, None, 1)\n",
      "\t\t (1, 'Inquisitor', 'BOOLEAN', 0, None, 0)\n",
      "\t\t (2, 'LoneWolf', 'BOOLEAN', 0, None, 0)\n",
      "\t\t (3, 'PuzzleMaster', 'BOOLEAN', 0, None, 0)\n",
      "\t\t (4, 'RiskTaker', 'BOOLEAN', 0, None, 0)\n",
      "\t\t (5, 'SpeedRunner', 'BOOLEAN', 0, None, 0)\n",
      "\t\t (6, 'Conqueror', 'BOOLEAN', 0, None, 0)\n",
      "\t[Achievement_Stats]\n",
      "\tColumns of Achievement_Stats\n",
      "\t\t (0, 'Username', 'VARCHAR(32)', 0, None, 1)\n",
      "\t\t (1, 'EasyGamesCompleted', 'INT', 0, None, 0)\n",
      "\t\t (2, 'MedGamesCompleted', 'INT', 0, None, 0)\n",
      "\t\t (3, 'HardGamesCompleted', 'INT', 0, None, 0)\n",
      "\t\t (4, 'Best_Time_Easy', 'FLOAT', 0, None, 0)\n",
      "\t\t (5, 'Best_Time_Med', 'FLOAT', 0, None, 0)\n",
      "\t\t (6, 'Best_Time_Hard', 'FLOAT', 0, None, 0)\n",
      "\t\t (7, 'AccountLevel', 'FLOAT', 0, None, 0)\n",
      "\t[Games_In_Progress]\n",
      "\tColumns of Games_In_Progress\n",
      "\t\t (0, 'Username', 'VARCHAR(32)', 0, None, 0)\n",
      "\t\t (1, 'Game_ID', 'INT', 0, None, 1)\n",
      "\t\t (2, 'Current_Time', 'TEXT', 0, None, 0)\n",
      "\t\t (3, 'Game', 'BLOB', 0, None, 0)\n",
      "\t\t (4, 'Difficulty', 'VARCHAR(6)', 0, None, 0)\n",
      "\t[Game_Settings]\n",
      "\tColumns of Game_Settings\n",
      "\t\t (0, 'Username', 'INT', 0, None, 1)\n",
      "\t\t (1, 'Show_Clock', 'BOOLEAN', 0, None, 0)\n",
      "\t\t (2, 'Show_Mistakes_Counter', 'BOOLEAN', 0, None, 0)\n"
     ]
    }
   ],
   "source": [
    "dbAPI2.print_tables(\"settings_test_db\")"
   ]
  },
  {
   "cell_type": "code",
   "execution_count": null,
   "metadata": {},
   "outputs": [],
   "source": []
  },
  {
   "cell_type": "code",
   "execution_count": 10,
   "metadata": {},
   "outputs": [],
   "source": [
    "con = sqlite3.connect(\"settings_test_db\")\n",
    "with con:\n",
    "        for result in con.execute(\"SELECT * FROM User_Account;\"):\n",
    "            print(result)\n",
    "        \n",
    "        for result in con.execute(\"SELECT * FROM Game_Settings;\"):\n",
    "            print(result)\n",
    "con.close()"
   ]
  },
  {
   "cell_type": "code",
   "execution_count": 14,
   "metadata": {},
   "outputs": [
    {
     "name": "stdout",
     "output_type": "stream",
     "text": [
      "(':User_Account', 'LarBear25', 'Paul', 'Schneider', 'dogluver@email.com')\n",
      "('User10', 'LarBear25', 'Paul', 'Schneider', 'dogluver@email.com')\n"
     ]
    }
   ],
   "source": [
    "con = sqlite3.connect(\"settings_test_db\")\n",
    "with con:\n",
    "        #con.execute(\"INSERT INTO User_Account VALUES ('TEST_ACCOUNT','password','user','name','email@email.com');\")\n",
    "        #con.execute(\"INSERT INTO Game_Settings VALUES ('TEST_ACCOUNT',0,1);\")\n",
    "        \n",
    "        for result in con.execute(\"SELECT * FROM User_Account;\"):\n",
    "            print(result)\n",
    "        for result in con.execute(\"SELECT * FROM Game_Settings;\"):\n",
    "            print(result[1],result[2])\n",
    "con.close()"
   ]
  },
  {
   "cell_type": "code",
   "execution_count": 7,
   "metadata": {},
   "outputs": [
    {
     "name": "stdout",
     "output_type": "stream",
     "text": [
      "('USER1', 'password', 'first', 'last', 'email@email.com')\n",
      "('USER2', 'password', 'first', 'last', 'email@email.com')\n",
      "('USER3', 'password', 'first', 'last', 'email@email.com')\n",
      "('USER4', 'password', 'first', 'last', 'email@email.com')\n"
     ]
    }
   ],
   "source": [
    "con = sqlite3.connect(\"settings_test_db\")\n",
    "with con:\n",
    "    for user in [{'Username':'USER1'},{'Username':'USER2'},{'Username':'USER3'},{'Username':'USER4'}]:\n",
    "                con.execute(\"INSERT INTO User_Account VALUES (:Username, 'password','first','last','email@email.com');\",user)\n",
    "    for result in con.execute(\"SELECT * FROM User_Account;\"):\n",
    "            print(result)\n",
    "con.close()"
   ]
  },
  {
   "cell_type": "code",
   "execution_count": null,
   "metadata": {},
   "outputs": [],
   "source": []
  },
  {
   "cell_type": "code",
   "execution_count": null,
   "metadata": {},
   "outputs": [],
   "source": []
  },
  {
   "cell_type": "code",
   "execution_count": null,
   "metadata": {},
   "outputs": [],
   "source": []
  }
 ],
 "metadata": {
  "kernelspec": {
   "display_name": "Python 3 (ipykernel)",
   "language": "python",
   "name": "python3"
  },
  "language_info": {
   "codemirror_mode": {
    "name": "ipython",
    "version": 3
   },
   "file_extension": ".py",
   "mimetype": "text/x-python",
   "name": "python",
   "nbconvert_exporter": "python",
   "pygments_lexer": "ipython3",
   "version": "3.10.8"
  }
 },
 "nbformat": 4,
 "nbformat_minor": 4
}
