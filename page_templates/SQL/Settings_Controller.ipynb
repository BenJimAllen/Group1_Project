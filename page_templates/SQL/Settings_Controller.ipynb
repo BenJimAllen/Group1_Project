{
 "cells": [
  {
   "cell_type": "markdown",
   "metadata": {},
   "source": [
    "# Hooli-Strike Team Database Controller\n",
    "<figure width=100%>\n",
    "</figure>\n",
    "    \n",
    "## CSPB 3308; Team One\n",
    "<hr>"
   ]
  },
  {
   "cell_type": "markdown",
   "metadata": {
    "tags": []
   },
   "source": [
    "## OWNERS: name, email, github username\n",
    "\n",
    "Name: \n",
    "\n",
    "Email: \n",
    "\n",
    "Name: \n",
    "\n",
    "Email:  "
   ]
  },
  {
   "cell_type": "markdown",
   "metadata": {},
   "source": [
    "Write your table definitions here. **Format your definitions so they are readable.**"
   ]
  },
  {
   "cell_type": "markdown",
   "metadata": {},
   "source": [
    "## Set Up the Database Connection"
   ]
  },
  {
   "cell_type": "code",
   "execution_count": 1,
   "metadata": {},
   "outputs": [
    {
     "ename": "ModuleNotFoundError",
     "evalue": "No module named 'dbAPI3'",
     "output_type": "error",
     "traceback": [
      "\u001b[0;31m---------------------------------------------------------------------------\u001b[0m",
      "\u001b[0;31mModuleNotFoundError\u001b[0m                       Traceback (most recent call last)",
      "Cell \u001b[0;32mIn[1], line 2\u001b[0m\n\u001b[1;32m      1\u001b[0m \u001b[38;5;28;01mimport\u001b[39;00m \u001b[38;5;21;01msqlite3\u001b[39;00m\n\u001b[0;32m----> 2\u001b[0m \u001b[38;5;28;01mimport\u001b[39;00m \u001b[38;5;21;01mdbAPI3\u001b[39;00m\n\u001b[1;32m      3\u001b[0m \u001b[38;5;28;01mimport\u001b[39;00m \u001b[38;5;21;01mjson\u001b[39;00m\n\u001b[1;32m      4\u001b[0m \u001b[38;5;66;03m# con = sqlite3.connect(\"test_db\")\u001b[39;00m\n\u001b[1;32m      5\u001b[0m \u001b[38;5;66;03m# cur = con.cursor()\u001b[39;00m\n",
      "\u001b[0;31mModuleNotFoundError\u001b[0m: No module named 'dbAPI3'"
     ]
    }
   ],
   "source": [
    "import sqlite3\n",
    "import dbAPI3\n",
    "import json\n",
    "# con = sqlite3.connect(\"test_db\")\n",
    "# cur = con.cursor()\n",
    "def delete_tables(db_filename):\n",
    "    conn = sqlite3.connect(db_filename) \n",
    "    with sqlite3.connect(db_filename) as conn:\n",
    "        c = conn.cursor() \n",
    "        #Create User_Account Table\n",
    "        c.execute(\"DROP TABLE IF EXISTS User_Account;\")\n",
    "        c.execute(\"DROP TABLE IF EXISTS User_Achievements;\")\n",
    "        c.execute(\"DROP TABLE IF EXISTS Achievement_Stats;\")\n",
    "        c.execute(\"DROP TABLE IF EXISTS Games_In_Progress;\")\n",
    "        c.execute(\"DROP TABLE IF EXISTS Game_Settings;\")\n",
    "        conn.commit()\n",
    "    conn.close()"
   ]
  },
  {
   "cell_type": "code",
   "execution_count": 2,
   "metadata": {},
   "outputs": [
    {
     "ename": "NameError",
     "evalue": "name 'dbAPI3' is not defined",
     "output_type": "error",
     "traceback": [
      "\u001b[0;31m---------------------------------------------------------------------------\u001b[0m",
      "\u001b[0;31mNameError\u001b[0m                                 Traceback (most recent call last)",
      "Cell \u001b[0;32mIn[2], line 1\u001b[0m\n\u001b[0;32m----> 1\u001b[0m help(\u001b[43mdbAPI3\u001b[49m)\n",
      "\u001b[0;31mNameError\u001b[0m: name 'dbAPI3' is not defined"
     ]
    }
   ],
   "source": [
    "help(dbAPI3)"
   ]
  },
  {
   "cell_type": "code",
   "execution_count": 39,
   "metadata": {},
   "outputs": [],
   "source": [
    "db_name = \"test_db2\"\n",
    "#dbAPI3.delete_tables(db_name)\n",
    "dbAPI3.create(db_name)"
   ]
  },
  {
   "cell_type": "markdown",
   "metadata": {},
   "source": [
    "## Create the User_Account Table"
   ]
  },
  {
   "cell_type": "code",
   "execution_count": 40,
   "metadata": {},
   "outputs": [
    {
     "name": "stdout",
     "output_type": "stream",
     "text": [
      "\n",
      "Tables:\n",
      "\t[User_Account]\n",
      "\tColumns of User_Account\n",
      "\t\t (0, 'Username', 'VARCHAR(32)', 0, None, 1)\n",
      "\t\t (1, 'Password', 'VARCHAR(16)', 0, None, 0)\n",
      "\t\t (2, 'First_Name', 'VARCHAR(50)', 0, None, 0)\n",
      "\t\t (3, 'Last_Name', 'VARCHAR(50)', 0, None, 0)\n",
      "\t\t (4, 'Email', 'VARCHAR(320)', 0, None, 0)\n",
      "\t[Puzzle_Master]\n",
      "\tColumns of Puzzle_Master\n",
      "\t\t (0, 'Username', 'VARCHAR(32)', 0, None, 1)\n",
      "\t\t (1, 'Game1_Easy', 'BOOLEAN', 0, None, 0)\n",
      "\t\t (2, 'Game2_Easy', 'BOOLEAN', 0, None, 0)\n",
      "\t\t (3, 'Game3_Easy', 'BOOLEAN', 0, None, 0)\n",
      "\t\t (4, 'Game4_Easy', 'BOOLEAN', 0, None, 0)\n",
      "\t\t (5, 'Game1_Med', 'BOOLEAN', 0, None, 0)\n",
      "\t\t (6, 'Game2_Med', 'BOOLEAN', 0, None, 0)\n",
      "\t\t (7, 'Game3_Med', 'BOOLEAN', 0, None, 0)\n",
      "\t\t (8, 'Game4_Med', 'BOOLEAN', 0, None, 0)\n",
      "\t\t (9, 'Game1_Hard', 'BOOLEAN', 0, None, 0)\n",
      "\t\t (10, 'Game2_Hard', 'BOOLEAN', 0, None, 0)\n",
      "\t\t (11, 'Game3_Hard', 'BOOLEAN', 0, None, 0)\n",
      "\t\t (12, 'Game4_Hard', 'BOOLEAN', 0, None, 0)\n",
      "\t[Achievement_Stats]\n",
      "\tColumns of Achievement_Stats\n",
      "\t\t (0, 'Username', 'VARCHAR(32)', 0, None, 1)\n",
      "\t\t (1, 'EasyGamesCompleted', 'INT', 0, None, 0)\n",
      "\t\t (2, 'MedGamesCompleted', 'INT', 0, None, 0)\n",
      "\t\t (3, 'HardGamesCompleted', 'INT', 0, None, 0)\n",
      "\t\t (4, 'Best_Time_Easy', 'FLOAT', 0, None, 0)\n",
      "\t\t (5, 'Best_Time_Med', 'FLOAT', 0, None, 0)\n",
      "\t\t (6, 'Best_Time_Hard', 'FLOAT', 0, None, 0)\n",
      "\t[Games_In_Progress]\n",
      "\tColumns of Games_In_Progress\n",
      "\t\t (0, 'Username', 'VARCHAR(32)', 0, None, 0)\n",
      "\t\t (1, 'Game_ID', 'INT', 0, None, 1)\n",
      "\t\t (2, 'Current_Time', 'INT', 0, None, 0)\n",
      "\t\t (3, 'Game', 'VARCHAR(100)', 0, None, 0)\n",
      "\t\t (4, 'Difficulty', 'VARCHAR(6)', 0, None, 0)\n",
      "\t\t (5, 'Mistakes_Checked', 'INT', 0, None, 0)\n",
      "\t\t (6, 'Notes_Checked', 'INT', 0, None, 0)\n",
      "\t[Game_Settings]\n",
      "\tColumns of Game_Settings\n",
      "\t\t (0, 'Username', 'INT', 0, None, 1)\n",
      "\t\t (1, 'Show_Clock', 'BOOLEAN', 0, None, 0)\n",
      "\t\t (2, 'Show_Mistakes_Counter', 'BOOLEAN', 0, None, 0)\n"
     ]
    }
   ],
   "source": [
    "#dbAPI3.delete_tables(db_name)\n",
    "dbAPI3.print_tables(db_name)"
   ]
  },
  {
   "cell_type": "code",
   "execution_count": 4,
   "metadata": {},
   "outputs": [
    {
     "name": "stdout",
     "output_type": "stream",
     "text": [
      "\n",
      "Tables:\n",
      "\t[Puzzle_Master]\n",
      "\tColumns of Puzzle_Master\n",
      "\t\t (0, 'Username', 'VARCHAR(32)', 0, None, 1)\n",
      "\t\t (1, 'Game1_Easy', 'BOOLEAN', 0, None, 0)\n",
      "\t\t (2, 'Game2_Easy', 'BOOLEAN', 0, None, 0)\n",
      "\t\t (3, 'Game3_Easy', 'BOOLEAN', 0, None, 0)\n",
      "\t\t (4, 'Game4_Easy', 'BOOLEAN', 0, None, 0)\n",
      "\t\t (5, 'Game1_Med', 'BOOLEAN', 0, None, 0)\n",
      "\t\t (6, 'Game2_Med', 'BOOLEAN', 0, None, 0)\n",
      "\t\t (7, 'Game3_Med', 'BOOLEAN', 0, None, 0)\n",
      "\t\t (8, 'Game4_Med', 'BOOLEAN', 0, None, 0)\n",
      "\t\t (9, 'Game1_Hard', 'BOOLEAN', 0, None, 0)\n",
      "\t\t (10, 'Game2_Hard', 'BOOLEAN', 0, None, 0)\n",
      "\t\t (11, 'Game3_Hard', 'BOOLEAN', 0, None, 0)\n",
      "\t\t (12, 'Game4_Hard', 'BOOLEAN', 0, None, 0)\n",
      "\t[User_Account]\n",
      "\tColumns of User_Account\n",
      "\t\t (0, 'Username', 'VARCHAR(32)', 0, None, 1)\n",
      "\t\t (1, 'Password', 'VARCHAR(16)', 0, None, 0)\n",
      "\t\t (2, 'First_Name', 'VARCHAR(50)', 0, None, 0)\n",
      "\t\t (3, 'Last_Name', 'VARCHAR(50)', 0, None, 0)\n",
      "\t\t (4, 'Email', 'VARCHAR(320)', 0, None, 0)\n",
      "\t[Achievement_Stats]\n",
      "\tColumns of Achievement_Stats\n",
      "\t\t (0, 'Username', 'VARCHAR(32)', 0, None, 1)\n",
      "\t\t (1, 'EasyGamesCompleted', 'INT', 0, None, 0)\n",
      "\t\t (2, 'MedGamesCompleted', 'INT', 0, None, 0)\n",
      "\t\t (3, 'HardGamesCompleted', 'INT', 0, None, 0)\n",
      "\t\t (4, 'Best_Time_Easy', 'FLOAT', 0, None, 0)\n",
      "\t\t (5, 'Best_Time_Med', 'FLOAT', 0, None, 0)\n",
      "\t\t (6, 'Best_Time_Hard', 'FLOAT', 0, None, 0)\n",
      "\t[Games_In_Progress]\n",
      "\tColumns of Games_In_Progress\n",
      "\t\t (0, 'Username', 'VARCHAR(32)', 0, None, 0)\n",
      "\t\t (1, 'Game_ID', 'INT', 0, None, 1)\n",
      "\t\t (2, 'Current_Time', 'INT', 0, None, 0)\n",
      "\t\t (3, 'Game', 'VARCHAR(100)', 0, None, 0)\n",
      "\t\t (4, 'Difficulty', 'VARCHAR(6)', 0, None, 0)\n",
      "\t\t (5, 'Mistakes_Checked', 'INT', 0, None, 0)\n",
      "\t\t (6, 'Notes_Checked', 'INT', 0, None, 0)\n",
      "\t[Game_Settings]\n",
      "\tColumns of Game_Settings\n",
      "\t\t (0, 'Username', 'INT', 0, None, 1)\n",
      "\t\t (1, 'Show_Clock', 'BOOLEAN', 0, None, 0)\n",
      "\t\t (2, 'Show_Mistakes_Counter', 'BOOLEAN', 0, None, 0)\n"
     ]
    }
   ],
   "source": [
    "#dbAPI2.delete_tables(\"settings_test_db\")\n",
    "dbAPI2.print_tables(\"settings_test_db\")"
   ]
  },
  {
   "cell_type": "code",
   "execution_count": null,
   "metadata": {},
   "outputs": [],
   "source": []
  },
  {
   "cell_type": "code",
   "execution_count": 47,
   "metadata": {},
   "outputs": [
    {
     "name": "stdout",
     "output_type": "stream",
     "text": [
      "('USER1', 'password', 'first', 'last', 'USER1@email.com')\n",
      "('USER2', 'password', 'first', 'last', 'USER2@email.com')\n",
      "('USER3', 'password', 'first', 'last', 'USER3@email.com')\n",
      "('USER4', 'password', 'first', 'last', 'USER4@email.com')\n"
     ]
    }
   ],
   "source": [
    "con = sqlite3.connect(db_name)\n",
    "with con:\n",
    "        for result in con.execute(\"SELECT * FROM User_Account;\"):\n",
    "            print(result)\n",
    "        # for result in con.execute(\"SELECT * FROM User_Achievements;\"):\n",
    "        #     print(result)            \n",
    "        for result in con.execute(\"SELECT * FROM Achievement_Stats;\"):\n",
    "            print(result)        \n",
    "        for result in con.execute(\"SELECT * FROM Games_In_Progress;\"):\n",
    "            print(result)\n",
    "        for result in con.execute(\"SELECT * FROM Game_Settings;\"):\n",
    "            print(result)\n",
    "con.close()"
   ]
  },
  {
   "cell_type": "code",
   "execution_count": 10,
   "metadata": {},
   "outputs": [
    {
     "name": "stdout",
     "output_type": "stream",
     "text": [
      "('[]',)\n"
     ]
    }
   ],
   "source": [
    "con = sqlite3.connect(db_name)\n",
    "with con:\n",
    "        #con.execute(\"INSERT INTO User_Account VALUES ('TEST_ACCOUNT','password','user','name','email@email.com');\")\n",
    "        #con.execute(\"INSERT INTO Game_Settings VALUES ('TEST_ACCOUNT',0,1);\")\n",
    "        \n",
    "        for result in con.execute('''SELECT json_group_array( json_object(\n",
    "                                                    'Username', Username,\n",
    "                                                    'Password', Password,\n",
    "                                                    'First_Name', First_Name,\n",
    "                                                    'Last_Name', Last_Name,\n",
    "                                                    'Email', Email))\n",
    "                                      FROM User_Account\n",
    "                                      '''):\n",
    "            print(result)\n",
    "        for result in con.execute(\"SELECT * FROM Game_Settings;\"):\n",
    "            print(result[1],result[2])\n",
    "con.close()"
   ]
  },
  {
   "cell_type": "code",
   "execution_count": 1,
   "metadata": {},
   "outputs": [
    {
     "ename": "NameError",
     "evalue": "name 'sqlite3' is not defined",
     "output_type": "error",
     "traceback": [
      "\u001b[0;31m---------------------------------------------------------------------------\u001b[0m",
      "\u001b[0;31mNameError\u001b[0m                                 Traceback (most recent call last)",
      "Cell \u001b[0;32mIn[1], line 1\u001b[0m\n\u001b[0;32m----> 1\u001b[0m con \u001b[38;5;241m=\u001b[39m \u001b[43msqlite3\u001b[49m\u001b[38;5;241m.\u001b[39mconnect(db_name)\n\u001b[1;32m      2\u001b[0m \u001b[38;5;28;01mwith\u001b[39;00m con:\n\u001b[1;32m      3\u001b[0m     \u001b[38;5;28;01mfor\u001b[39;00m user \u001b[38;5;129;01min\u001b[39;00m [{\u001b[38;5;124m'\u001b[39m\u001b[38;5;124mUsername\u001b[39m\u001b[38;5;124m'\u001b[39m:\u001b[38;5;124m'\u001b[39m\u001b[38;5;124mUSER1\u001b[39m\u001b[38;5;124m'\u001b[39m},{\u001b[38;5;124m'\u001b[39m\u001b[38;5;124mUsername\u001b[39m\u001b[38;5;124m'\u001b[39m:\u001b[38;5;124m'\u001b[39m\u001b[38;5;124mUSER2\u001b[39m\u001b[38;5;124m'\u001b[39m},{\u001b[38;5;124m'\u001b[39m\u001b[38;5;124mUsername\u001b[39m\u001b[38;5;124m'\u001b[39m:\u001b[38;5;124m'\u001b[39m\u001b[38;5;124mUSER3\u001b[39m\u001b[38;5;124m'\u001b[39m},{\u001b[38;5;124m'\u001b[39m\u001b[38;5;124mUsername\u001b[39m\u001b[38;5;124m'\u001b[39m:\u001b[38;5;124m'\u001b[39m\u001b[38;5;124mUSER4\u001b[39m\u001b[38;5;124m'\u001b[39m}]:\n",
      "\u001b[0;31mNameError\u001b[0m: name 'sqlite3' is not defined"
     ]
    }
   ],
   "source": [
    "con = sqlite3.connect(db_name)\n",
    "with con:\n",
    "    for user in [{'Username':'USER1'},{'Username':'USER2'},{'Username':'USER3'},{'Username':'USER4'}]:\n",
    "                con.execute(\"INSERT INTO User_Account VALUES (:Username, 'password','first','last','email@email.com');\",user)\n",
    "    for result in con.execute(\"SELECT * FROM User_Account;\"):\n",
    "            print(result)\n",
    "con.close()"
   ]
  },
  {
   "cell_type": "code",
   "execution_count": 2,
   "metadata": {},
   "outputs": [
    {
     "ename": "NameError",
     "evalue": "name 'sqlite3' is not defined",
     "output_type": "error",
     "traceback": [
      "\u001b[0;31m---------------------------------------------------------------------------\u001b[0m",
      "\u001b[0;31mNameError\u001b[0m                                 Traceback (most recent call last)",
      "Cell \u001b[0;32mIn[2], line 1\u001b[0m\n\u001b[0;32m----> 1\u001b[0m con \u001b[38;5;241m=\u001b[39m \u001b[43msqlite3\u001b[49m\u001b[38;5;241m.\u001b[39mconnect(db_name)\n\u001b[1;32m      2\u001b[0m \u001b[38;5;28;01mwith\u001b[39;00m con:\n\u001b[1;32m      3\u001b[0m     \u001b[38;5;66;03m# for user in [{'Username':'USER2','Game_ID':'1235','Current_Time':'1234','Game':\"000704005020010070000080002090006250600070008053200010400090000030060090200407000\",'Difficulty':'Expert', 'Mistakes_Checked': '0', 'Notes_Checked': '0'}]:\u001b[39;00m\n\u001b[1;32m      4\u001b[0m     \u001b[38;5;66;03m#     con.execute(\"INSERT INTO Games_In_Progress VALUES (:Username, :Game_ID, :Current_Time, :Game, :Difficulty, :Mistakes_Checked, :Notes_Checked);\",user)   \u001b[39;00m\n\u001b[1;32m      5\u001b[0m     \u001b[38;5;28;01mfor\u001b[39;00m user \u001b[38;5;129;01min\u001b[39;00m [{\u001b[38;5;124m'\u001b[39m\u001b[38;5;124mUsername\u001b[39m\u001b[38;5;124m'\u001b[39m:\u001b[38;5;124m'\u001b[39m\u001b[38;5;124mUSER2\u001b[39m\u001b[38;5;124m'\u001b[39m,\u001b[38;5;124m'\u001b[39m\u001b[38;5;124mGame_ID\u001b[39m\u001b[38;5;124m'\u001b[39m:\u001b[38;5;124m'\u001b[39m\u001b[38;5;124m1235\u001b[39m\u001b[38;5;124m'\u001b[39m,\u001b[38;5;124m'\u001b[39m\u001b[38;5;124mCurrent_Time\u001b[39m\u001b[38;5;124m'\u001b[39m:\u001b[38;5;124m'\u001b[39m\u001b[38;5;124m1234\u001b[39m\u001b[38;5;124m'\u001b[39m,\u001b[38;5;124m'\u001b[39m\u001b[38;5;124mGame\u001b[39m\u001b[38;5;124m'\u001b[39m:\u001b[38;5;124m\"\u001b[39m\u001b[38;5;124m000704005020010070000080002090006250600070008053200010400090000030060090200407000\u001b[39m\u001b[38;5;124m\"\u001b[39m,\u001b[38;5;124m'\u001b[39m\u001b[38;5;124mDifficulty\u001b[39m\u001b[38;5;124m'\u001b[39m:\u001b[38;5;124m'\u001b[39m\u001b[38;5;124mExpert\u001b[39m\u001b[38;5;124m'\u001b[39m}]:\n",
      "\u001b[0;31mNameError\u001b[0m: name 'sqlite3' is not defined"
     ]
    }
   ],
   "source": [
    "con = sqlite3.connect(db_name)\n",
    "with con:\n",
    "    # for user in [{'Username':'USER2','Game_ID':'1235','Current_Time':'1234','Game':\"000704005020010070000080002090006250600070008053200010400090000030060090200407000\",'Difficulty':'Expert', 'Mistakes_Checked': '0', 'Notes_Checked': '0'}]:\n",
    "    #     con.execute(\"INSERT INTO Games_In_Progress VALUES (:Username, :Game_ID, :Current_Time, :Game, :Difficulty, :Mistakes_Checked, :Notes_Checked);\",user)   \n",
    "    for user in [{'Username':'USER2','Game_ID':'1235','Current_Time':'1234','Game':\"000704005020010070000080002090006250600070008053200010400090000030060090200407000\",'Difficulty':'Expert'}]:\n",
    "                con.execute(\"INSERT INTO Games_In_Progress VALUES (:Username, :Game_ID, :Current_Time, :Game, :Difficulty);\",user)\n",
    "    for result in con.execute(\"SELECT * FROM Games_In_Progress;\"):\n",
    "            print(result)\n",
    "con.close()"
   ]
  },
  {
   "cell_type": "code",
   "execution_count": 9,
   "metadata": {},
   "outputs": [
    {
     "name": "stdout",
     "output_type": "stream",
     "text": [
      "('USER2', 1235, 1234, '000704005020010070000080002090006250600070008053200010400090000030060090200407000', 'Expert', 0, 0)\n"
     ]
    }
   ],
   "source": [
    "con = sqlite3.connect(db_name)\n",
    "with con:\n",
    "    for result in con.execute(\"SELECT * FROM Games_In_Progress;\"):\n",
    "            print(result)\n",
    "con.close()"
   ]
  },
  {
   "cell_type": "code",
   "execution_count": 10,
   "metadata": {},
   "outputs": [
    {
     "name": "stdout",
     "output_type": "stream",
     "text": [
      "('USER2', 1235, 111, '111704005020010070000080002090006250600070008053200010400090000030060090200407111', 'Expert', 0, 0)\n"
     ]
    }
   ],
   "source": [
    "con = sqlite3.connect(db_name)\n",
    "with con:\n",
    "    con.execute('''UPDATE Games_In_Progress SET \"Current_Time\" = 111, \"Game\" = \"111704005020010070000080002090006250600070008053200010400090000030060090200407111\"  WHERE \"Game_ID\" = \"1235\"''')\n",
    "    for result in con.execute(\"SELECT * FROM Games_In_Progress;\"):\n",
    "            print(result)\n",
    "con.close()"
   ]
  },
  {
   "cell_type": "code",
   "execution_count": null,
   "metadata": {},
   "outputs": [],
   "source": []
  },
  {
   "cell_type": "code",
   "execution_count": null,
   "metadata": {},
   "outputs": [],
   "source": []
  },
  {
   "cell_type": "code",
   "execution_count": null,
   "metadata": {},
   "outputs": [],
   "source": []
  }
 ],
 "metadata": {
  "kernelspec": {
   "display_name": "Python 3 (ipykernel)",
   "language": "python",
   "name": "python3"
  },
  "language_info": {
   "codemirror_mode": {
    "name": "ipython",
    "version": 3
   },
   "file_extension": ".py",
   "mimetype": "text/x-python",
   "name": "python",
   "nbconvert_exporter": "python",
   "pygments_lexer": "ipython3",
   "version": "3.10.8"
  }
 },
 "nbformat": 4,
 "nbformat_minor": 4
}
