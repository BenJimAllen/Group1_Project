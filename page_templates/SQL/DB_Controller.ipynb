{
 "cells": [
  {
   "cell_type": "markdown",
   "metadata": {},
   "source": [
    "# Hooli-Strike Team Database Controller\n",
    "<figure width=100%>\n",
    "</figure>\n",
    "    \n",
    "## CSPB 3308; Team One\n",
    "<hr>"
   ]
  },
  {
   "cell_type": "markdown",
   "metadata": {
    "tags": []
   },
   "source": [
    "## OWNERS: name, email, github username\n",
    "\n",
    "Name: ```Micah Simmerman```\n",
    "\n",
    "Email:   ```jasi9001@colorado.edu```\n",
    "\n",
    "Name: ```Paul Schneider```\n",
    "\n",
    "Email:   ```Paul.Schneider-1@colorado.edu```"
   ]
  },
  {
   "cell_type": "markdown",
   "metadata": {},
   "source": [
    "Write your table definitions here. **Format your definitions so they are readable.**"
   ]
  },
  {
   "cell_type": "markdown",
   "metadata": {},
   "source": [
    "## Set Up the Database Connection"
   ]
  },
  {
   "cell_type": "code",
   "execution_count": 50,
   "metadata": {},
   "outputs": [],
   "source": [
    "import sqlite3\n",
    "con = sqlite3.connect(\"controller_db\")\n",
    "cur = con.cursor()"
   ]
  },
  {
   "cell_type": "markdown",
   "metadata": {},
   "source": [
    "## Create the User_Account Table"
   ]
  },
  {
   "cell_type": "code",
   "execution_count": 56,
   "metadata": {},
   "outputs": [
    {
     "name": "stdout",
     "output_type": "stream",
     "text": [
      "UserAccount table successfully created.\n"
     ]
    }
   ],
   "source": [
    "CREATE_UserAccount = \"\"\"\n",
    "                     CREATE TABLE IF NOT EXISTS User_Account(\n",
    "                         Username VARCHAR(32),\n",
    "                         Password VARCHAR(16),\n",
    "                         First_Name VARCHAR(50),\n",
    "                         Last_Name VARCHAR(50),\n",
    "                         Email VARCHAR(320), \n",
    "                         PRIMARY KEY(Username))\n",
    "                     \"\"\"\n",
    "try:\n",
    "    cur = con.cursor()\n",
    "    res = cur.execute(CREATE_UserAccount)\n",
    "    res.fetchone()\n",
    "    con.commit()\n",
    "    print(\"UserAccount table successfully created.\")\n",
    "except:\n",
    "    print(\"Unable to create UserAccount table\")"
   ]
  },
  {
   "cell_type": "code",
   "execution_count": 57,
   "metadata": {},
   "outputs": [
    {
     "name": "stdout",
     "output_type": "stream",
     "text": [
      "Unable to create UserAccount table\n"
     ]
    }
   ],
   "source": [
    "CREATE_UserAchievements = \"\"\"\n",
    "                     CREATE TABLE IF NOT EXISTS User_Achievements(\n",
    "                         Username VARCHAR(32),\n",
    "                         Inquisitor BOOLEAN,\n",
    "                         LoneWolf BOOLEAN,\n",
    "                         PuzzleMaster BOOLEAN,\n",
    "                         RiskTaker BOOLEAN,\n",
    "                         SpeedRunner BOOLEAN,\n",
    "                         Conqueror BOOLEAN,\n",
    "                         PRIMARY KEY(Username), \n",
    "                         FOREIGN KEY(Username) REFERENCES User_Account(Username)) \n",
    "                     \"\"\"\n",
    "try:\n",
    "    cur = con.cursor()\n",
    "    res = cur.execute(CREATE_UserAchievements)\n",
    "    res.fetchone()\n",
    "    con.commit()\n",
    "    print(\"UserAccount table successfully created.\")\n",
    "except:\n",
    "    print(\"Unable to create UserAccount table\")"
   ]
  },
  {
   "cell_type": "code",
   "execution_count": null,
   "metadata": {},
   "outputs": [],
   "source": []
  },
  {
   "cell_type": "code",
   "execution_count": null,
   "metadata": {},
   "outputs": [],
   "source": []
  },
  {
   "cell_type": "markdown",
   "metadata": {},
   "source": [
    "## Drop the User_Account Table"
   ]
  },
  {
   "cell_type": "code",
   "execution_count": 54,
   "metadata": {},
   "outputs": [
    {
     "name": "stdout",
     "output_type": "stream",
     "text": [
      "User_Account Table Dropped\n"
     ]
    }
   ],
   "source": [
    "drop_table = \"\"\"DROP TABLE IF EXISTS User_Account\"\"\"\n",
    "\n",
    "try:\n",
    "    res = cur.execute(create_UserAccount)\n",
    "    res.fetchone()\n",
    "    print(\"User_Account Table Dropped\")\n",
    "except:\n",
    "    print(\"Not working\")\n",
    "\n",
    "# res = cur.execute(create_UserAccount)\n",
    "# res.fetchone()\n",
    "# con.close()"
   ]
  },
  {
   "cell_type": "markdown",
   "metadata": {},
   "source": [
    "## Close the Database Connection"
   ]
  },
  {
   "cell_type": "code",
   "execution_count": null,
   "metadata": {},
   "outputs": [],
   "source": [
    "con.close()"
   ]
  }
 ],
 "metadata": {
  "kernelspec": {
   "display_name": "Python 3 (ipykernel)",
   "language": "python",
   "name": "python3"
  },
  "language_info": {
   "codemirror_mode": {
    "name": "ipython",
    "version": 3
   },
   "file_extension": ".py",
   "mimetype": "text/x-python",
   "name": "python",
   "nbconvert_exporter": "python",
   "pygments_lexer": "ipython3",
   "version": "3.10.8"
  }
 },
 "nbformat": 4,
 "nbformat_minor": 4
}
