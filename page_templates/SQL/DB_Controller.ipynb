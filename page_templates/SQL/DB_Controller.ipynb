{
 "cells": [
  {
   "cell_type": "markdown",
   "metadata": {},
   "source": [
    "# Hooli-Strike Team Database Controller\n",
    "<figure width=100%>\n",
    "</figure>\n",
    "    \n",
    "## CSPB 3308; Team One\n",
    "<hr>"
   ]
  },
  {
   "cell_type": "markdown",
   "metadata": {
    "tags": []
   },
   "source": [
    "## OWNERS: name, email, github username\n",
    "\n",
    "Name: ```Micah Simmerman```\n",
    "\n",
    "Email:   ```jasi9001@colorado.edu```\n",
    "\n",
    "Name: ```Paul Schneider```\n",
    "\n",
    "Email:   ```Paul.Schneider-1@colorado.edu```"
   ]
  },
  {
   "cell_type": "markdown",
   "metadata": {},
   "source": [
    "Write your table definitions here. **Format your definitions so they are readable.**"
   ]
  },
  {
   "cell_type": "markdown",
   "metadata": {},
   "source": [
    "## Set Up the Database Connection"
   ]
  },
  {
   "cell_type": "code",
   "execution_count": 219,
   "metadata": {},
   "outputs": [],
   "source": [
    "import sqlite3\n",
    "con = sqlite3.connect(\"controller_db\")\n",
    "cur = con.cursor()"
   ]
  },
  {
   "cell_type": "markdown",
   "metadata": {},
   "source": [
    "## Create the User_Account Table"
   ]
  },
  {
   "cell_type": "code",
   "execution_count": 220,
   "metadata": {},
   "outputs": [
    {
     "name": "stdout",
     "output_type": "stream",
     "text": [
      "User_Account table was successfully created.\n"
     ]
    }
   ],
   "source": [
    "CREATE_UserAccount = \"\"\"\n",
    "                     CREATE TABLE IF NOT EXISTS User_Account(\n",
    "                         Username VARCHAR(32),\n",
    "                         Password VARCHAR(16),\n",
    "                         First_Name VARCHAR(50),\n",
    "                         Last_Name VARCHAR(50),\n",
    "                         Email VARCHAR(320) UNIQUE, \n",
    "                         PRIMARY KEY(Username))\n",
    "                     \"\"\"\n",
    "try:\n",
    "    cur = con.cursor()\n",
    "    res = cur.execute(CREATE_UserAccount)\n",
    "    res.fetchone()\n",
    "    con.commit()\n",
    "    print(\"User_Account table was successfully created.\")\n",
    "except:\n",
    "    print(\"Unable to create UserAccount table\")"
   ]
  },
  {
   "cell_type": "markdown",
   "metadata": {},
   "source": [
    "## Truncate the User_Account Table Here"
   ]
  },
  {
   "cell_type": "code",
   "execution_count": 221,
   "metadata": {},
   "outputs": [
    {
     "name": "stdout",
     "output_type": "stream",
     "text": [
      "Truncated the User_Account table.\n"
     ]
    }
   ],
   "source": [
    "try:\n",
    "    cur = con.cursor()\n",
    "    res = cur.execute(\"DELETE FROM User_Account\")\n",
    "    res.fetchone()\n",
    "    con.commit()\n",
    "    print(\"Truncated the User_Account table.\")\n",
    "except:\n",
    "    print(\"Unable to delete from User_Account table. Check database configuration and try again.\")"
   ]
  },
  {
   "cell_type": "code",
   "execution_count": 222,
   "metadata": {},
   "outputs": [
    {
     "name": "stdout",
     "output_type": "stream",
     "text": [
      "Inserted username1 into User_Account table.\n",
      "Inserted username3 into User_Account table.\n",
      "Failed to insert username4\n",
      "Inserted username2 into User_Account table.\n",
      "Failed to insert username1\n",
      "3 records inserted.\n"
     ]
    }
   ],
   "source": [
    "CREATE_UserAccount = \"\"\"\n",
    "                     INSERT INTO User_Account (Username,Password,First_Name,Last_Name,Email) \n",
    "                     VALUES (?,?,?,?,?);\n",
    "                     \"\"\"\n",
    "data = [(\"username1\",\"abc123\",\"Mike\",\"Roberts\",\"email@email.com\"),\n",
    "        (\"username3\",\"ghi789\",\"Luke\",\"Vivelle\",\"i_heart_sudoku659@email.com\"),  \n",
    "        (\"username4\",\"jkl012\",\"Joe\",\"Henderson\",\"email@email.com\"),# duplicate email.(SHOULD FAIL)\n",
    "        (\"username2\",\"def456\",\"Joe\",\"Henderson\",\"jimmycrackKORN@email.com\"),\n",
    "        (\"username1\",\"mno345\",\"Jim\",\"Beam\",\"patRobertson#$%@email.com\")] # duplicate username (SHOULD FAIL)\n",
    "\n",
    "count = 0\n",
    "for item in data:\n",
    "    try:\n",
    "        cur = con.cursor()\n",
    "        res = cur.execute(CREATE_UserAccount, (item[0],item[1],item[2],item[3],item[4]))\n",
    "        res.fetchall()\n",
    "        con.commit()\n",
    "        # con.close()\n",
    "        count+=1\n",
    "        print(\"Inserted\", item[0], \"into User_Account table.\")\n",
    "    except:\n",
    "        print(\"Failed to insert\", item[0])\n",
    "        \n",
    "print(count, \"records inserted.\")"
   ]
  },
  {
   "cell_type": "code",
   "execution_count": 243,
   "metadata": {},
   "outputs": [
    {
     "name": "stdout",
     "output_type": "stream",
     "text": [
      "Credentials belonging to:  Luke Vivelle \n",
      "Email:  i_heart_sudoku659@email.com\n"
     ]
    }
   ],
   "source": [
    "VERIFY_UserAccount = \"\"\"\n",
    "                     SELECT \n",
    "                         First_Name, \n",
    "                         Last_Name, \n",
    "                         Email\n",
    "                     FROM \n",
    "                         User_Account\n",
    "                     WHERE\n",
    "                         Username = ? AND Password = ?\n",
    "                     \"\"\"\n",
    "uname_passwd = (\"username3\", \"ghi789\")\n",
    "try:\n",
    "    cur = con.cursor()\n",
    "    cur.execute(VERIFY_UserAccount, uname_passwd)\n",
    "    con.commit()\n",
    "    for row in cur:\n",
    "        print(\"Credentials belonging to: \", row[0], row[1], \"\\nEmail: \", row[2])\n",
    "except:\n",
    "    print(\"User Not Found\")"
   ]
  },
  {
   "cell_type": "code",
   "execution_count": 223,
   "metadata": {},
   "outputs": [
    {
     "name": "stdout",
     "output_type": "stream",
     "text": [
      "User_Achievements table successfully created.\n"
     ]
    }
   ],
   "source": [
    "CREATE_UserAchievements = \"\"\"\n",
    "                     CREATE TABLE IF NOT EXISTS User_Achievements(\n",
    "                         Username VARCHAR(32),\n",
    "                         Inquisitor BOOLEAN,\n",
    "                         LoneWolf BOOLEAN,\n",
    "                         PuzzleMaster BOOLEAN,\n",
    "                         RiskTaker BOOLEAN,\n",
    "                         SpeedRunner BOOLEAN,\n",
    "                         Conqueror BOOLEAN,\n",
    "                         PRIMARY KEY(Username), \n",
    "                         FOREIGN KEY(Username) REFERENCES User_Account(Username)) \n",
    "                     \"\"\"\n",
    "try:\n",
    "    cur = con.cursor()\n",
    "    res = cur.execute(CREATE_UserAchievements)\n",
    "    res.fetchone()\n",
    "    con.commit()\n",
    "    print(\"User_Achievements table successfully created.\")\n",
    "except:\n",
    "    print(\"Unable to create User_Achievements table\")"
   ]
  },
  {
   "cell_type": "code",
   "execution_count": null,
   "metadata": {},
   "outputs": [],
   "source": []
  },
  {
   "cell_type": "code",
   "execution_count": null,
   "metadata": {},
   "outputs": [],
   "source": []
  },
  {
   "cell_type": "markdown",
   "metadata": {},
   "source": [
    "## Drop the User_Account Table"
   ]
  },
  {
   "cell_type": "code",
   "execution_count": 97,
   "metadata": {},
   "outputs": [
    {
     "name": "stdout",
     "output_type": "stream",
     "text": [
      "User_Account Table Dropped\n"
     ]
    }
   ],
   "source": [
    "DROP_User_Account = \"\"\"DROP TABLE IF EXISTS User_Account\"\"\"\n",
    "\n",
    "try:\n",
    "    res = cur.execute(DROP_User_Account)\n",
    "    res.fetchone()\n",
    "    print(\"User_Account Table Dropped\")\n",
    "except:\n",
    "    print(\"Not working\")\n",
    "\n",
    "# SAVE FOR TROUBLE SHOOTING\n",
    "# res = cur.execute(DROP_User_Account)\n",
    "# res.fetchone()\n",
    "# con.close()"
   ]
  },
  {
   "cell_type": "code",
   "execution_count": null,
   "metadata": {},
   "outputs": [],
   "source": [
    "drop_table = \"\"\"DROP TABLE IF EXISTS User_Account\"\"\"\n",
    "\n",
    "try:\n",
    "    res = cur.execute(create_UserAccount)\n",
    "    res.fetchone()\n",
    "    print(\"User_Account Table Dropped\")\n",
    "except:\n",
    "    print(\"Not working\")"
   ]
  },
  {
   "cell_type": "markdown",
   "metadata": {},
   "source": [
    "## Close the Database Connection"
   ]
  },
  {
   "cell_type": "code",
   "execution_count": 106,
   "metadata": {},
   "outputs": [],
   "source": [
    "con.close()"
   ]
  },
  {
   "cell_type": "code",
   "execution_count": null,
   "metadata": {},
   "outputs": [],
   "source": []
  }
 ],
 "metadata": {
  "kernelspec": {
   "display_name": "Python 3 (ipykernel)",
   "language": "python",
   "name": "python3"
  },
  "language_info": {
   "codemirror_mode": {
    "name": "ipython",
    "version": 3
   },
   "file_extension": ".py",
   "mimetype": "text/x-python",
   "name": "python",
   "nbconvert_exporter": "python",
   "pygments_lexer": "ipython3",
   "version": "3.10.8"
  }
 },
 "nbformat": 4,
 "nbformat_minor": 4
}
